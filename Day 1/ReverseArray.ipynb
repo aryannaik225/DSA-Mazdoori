{
 "cells": [
  {
   "cell_type": "code",
   "execution_count": null,
   "metadata": {},
   "outputs": [],
   "source": [
    "# Reverse the array"
   ]
  },
  {
   "cell_type": "code",
   "execution_count": 3,
   "metadata": {},
   "outputs": [
    {
     "name": "stdout",
     "output_type": "stream",
     "text": [
      "2 3 4 1\n"
     ]
    }
   ],
   "source": [
    "def reverseArray(a):\n",
    "    # Write your code here\n",
    "    res = []\n",
    "    for i in range(len(a)-1, -1, -1):\n",
    "        res.append(a[i])\n",
    "    return res\n",
    "        \n",
    "\n",
    "if __name__ == '__main__':\n",
    "  arr_count = int(input(\"Enter the number of elements: \").strip())\n",
    "  arr = list(map(int, input(\"Enter the elements separated by space: \").rstrip().split()))\n",
    "  res = reverseArray(arr)\n",
    "  print(' '.join(map(str, res)))\n"
   ]
  }
 ],
 "metadata": {
  "kernelspec": {
   "display_name": "Python 3",
   "language": "python",
   "name": "python3"
  },
  "language_info": {
   "codemirror_mode": {
    "name": "ipython",
    "version": 3
   },
   "file_extension": ".py",
   "mimetype": "text/x-python",
   "name": "python",
   "nbconvert_exporter": "python",
   "pygments_lexer": "ipython3",
   "version": "3.12.7"
  }
 },
 "nbformat": 4,
 "nbformat_minor": 2
}
